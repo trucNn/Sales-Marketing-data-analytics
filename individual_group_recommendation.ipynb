{
  "nbformat": 4,
  "nbformat_minor": 0,
  "metadata": {
    "colab": {
      "provenance": [],
      "mount_file_id": "18vam9k1OLmLEC9Xr2vWHD-mf-gTYOZ_E",
      "authorship_tag": "ABX9TyO5yCsTuC31ehHLenozM/Fj",
      "include_colab_link": true
    },
    "kernelspec": {
      "name": "python3",
      "display_name": "Python 3"
    },
    "language_info": {
      "name": "python"
    }
  },
  "cells": [
    {
      "cell_type": "markdown",
      "metadata": {
        "id": "view-in-github",
        "colab_type": "text"
      },
      "source": [
        "<a href=\"https://colab.research.google.com/github/trucNn/Sales-Marketing-data-analytics/blob/main/individual_group_recommendation.ipynb\" target=\"_parent\"><img src=\"https://colab.research.google.com/assets/colab-badge.svg\" alt=\"Open In Colab\"/></a>"
      ]
    },
    {
      "cell_type": "code",
      "metadata": {
        "id": "crm1rM7LTmkA"
      },
      "source": [
        "import pandas as pd\n",
        "import matplotlib.pyplot as plt\n",
        "import seaborn as sns\n",
        "import matplotlib.pylab as pylab\n",
        "xl = pd.ExcelFile ('/content/drive/MyDrive/TableauSalesData.xlsx')\n",
        "SalesData = xl.parse(\"Orders\")"
      ],
      "execution_count": null,
      "outputs": []
    },
    {
      "cell_type": "code",
      "metadata": {
        "id": "hhq0EmagU0X2"
      },
      "source": [
        "display(SalesData.head(15))"
      ],
      "execution_count": null,
      "outputs": []
    },
    {
      "cell_type": "code",
      "metadata": {
        "id": "9HQN6w7dUCPf"
      },
      "source": [
        "#profit and sale for Art\n",
        "TotsSale = SalesData[[\"Sub-Category\",\"Sales\",\"Profit\", \"Quantity\"]]\n",
        "TableSalesProf = TotsSale.loc[(TotsSale[\"Sub-Category\"]==\"Art\")]\n",
        "TotalSale = TableSalesProf.groupby(by=[\"Sub-Category\"]).sum().round()\n",
        "display(TotalSale)"
      ],
      "execution_count": null,
      "outputs": []
    },
    {
      "cell_type": "code",
      "metadata": {
        "id": "3xrZPRg0UChR"
      },
      "source": [
        "#profit and sale by states\n",
        "JustArt = SalesData.loc[SalesData[\"Sub-Category\"]==\"Art\"]\n",
        "ArtRegion = JustArt[[\"State\", \"Profit\",\"Sales\",\"Discount\"]]\n",
        "RegionTotal = ArtRegion.groupby(by=\"State\").sum().sort_values(by=\"Profit\", ascending = False)\n",
        "print(RegionTotal)"
      ],
      "execution_count": null,
      "outputs": []
    },
    {
      "cell_type": "code",
      "metadata": {
        "id": "G7TWtqDNUCjE",
        "colab": {
          "base_uri": "https://localhost:8080/"
        },
        "outputId": "65deedf6-fa89-47b4-be58-b3ddae26ec3c"
      },
      "source": [
        "#profit and sale by region\n",
        "JustArt = SalesData.loc[SalesData[\"Sub-Category\"]==\"Art\"]\n",
        "ArtRegion = JustArt[[\"Region\", \"Profit\",\"Sales\",\"Discount\",\"Quantity\"]]\n",
        "RegionTotal = ArtRegion.groupby(by=\"Region\").sum().sort_values(by=\"Profit\", ascending = False)\n",
        "print(RegionTotal)"
      ],
      "execution_count": null,
      "outputs": [
        {
          "output_type": "stream",
          "name": "stdout",
          "text": [
            "            Profit     Sales  Discount  Quantity\n",
            "Region                                          \n",
            "West     2374.0970  9212.066       7.8       926\n",
            "East     1899.9443  7485.764      15.8       849\n",
            "Central  1195.1591  5765.340      21.6       678\n",
            "South    1058.5866  4655.622      14.4       547\n"
          ]
        }
      ]
    },
    {
      "cell_type": "code",
      "metadata": {
        "id": "qS_3dFVQUCoj"
      },
      "source": [
        "#take out the negative profit\n",
        "Supplies = SalesData.loc[SalesData[\"Sub-Category\"]==\"Art\"]\n",
        "SupProfit = Supplies[[\"Product Name\",\"Profit\",\"Quantity\"]].groupby(\"Product Name\").sum().sort_values(by=\"Profit\", ascending = False)\n",
        "Profit = SupProfit[SupProfit[\"Profit\"]>0.0]\n",
        "display(Profit.head(10))"
      ],
      "execution_count": null,
      "outputs": []
    },
    {
      "cell_type": "code",
      "metadata": {
        "id": "iajmJ4wIx7zv",
        "colab": {
          "base_uri": "https://localhost:8080/",
          "height": 235
        },
        "outputId": "7802bdb6-72e0-4684-b3a7-9c324efede75"
      },
      "source": [
        "#Profit's Art product by sub-category\n",
        "Supplies = SalesData.loc[SalesData[\"Sub-Category\"]==\"Art\"]\n",
        "SupProfit = Supplies[[\"Product Name\",\"Profit\",\"Quantity\"]].groupby(\"Product Name\").sum().sort_values(by=\"Profit\", ascending = False)\n",
        "SupProfitRounded = (SupProfit.round(2))\n",
        "display(SupProfitRounded.head(5))"
      ],
      "execution_count": null,
      "outputs": [
        {
          "output_type": "display_data",
          "data": {
            "text/html": [
              "<div>\n",
              "<style scoped>\n",
              "    .dataframe tbody tr th:only-of-type {\n",
              "        vertical-align: middle;\n",
              "    }\n",
              "\n",
              "    .dataframe tbody tr th {\n",
              "        vertical-align: top;\n",
              "    }\n",
              "\n",
              "    .dataframe thead th {\n",
              "        text-align: right;\n",
              "    }\n",
              "</style>\n",
              "<table border=\"1\" class=\"dataframe\">\n",
              "  <thead>\n",
              "    <tr style=\"text-align: right;\">\n",
              "      <th></th>\n",
              "      <th>Profit</th>\n",
              "      <th>Quantity</th>\n",
              "    </tr>\n",
              "    <tr>\n",
              "      <th>Product Name</th>\n",
              "      <th></th>\n",
              "      <th></th>\n",
              "    </tr>\n",
              "  </thead>\n",
              "  <tbody>\n",
              "    <tr>\n",
              "      <th>Hunt PowerHouse Electric Pencil Sharpener, Blue</th>\n",
              "      <td>448.16</td>\n",
              "      <td>44</td>\n",
              "    </tr>\n",
              "    <tr>\n",
              "      <th>Boston Heavy-Duty Trimline Electric Pencil Sharpeners</th>\n",
              "      <td>310.89</td>\n",
              "      <td>25</td>\n",
              "    </tr>\n",
              "    <tr>\n",
              "      <th>Boston 1645 Deluxe Heavier-Duty Electric Pencil Sharpener</th>\n",
              "      <td>206.27</td>\n",
              "      <td>27</td>\n",
              "    </tr>\n",
              "    <tr>\n",
              "      <th>Dixon Ticonderoga Core-Lock Colored Pencils, 48-Color Set</th>\n",
              "      <td>165.21</td>\n",
              "      <td>13</td>\n",
              "    </tr>\n",
              "    <tr>\n",
              "      <th>Prismacolor Color Pencil Set</th>\n",
              "      <td>155.55</td>\n",
              "      <td>24</td>\n",
              "    </tr>\n",
              "  </tbody>\n",
              "</table>\n",
              "</div>"
            ],
            "text/plain": [
              "                                                    Profit  Quantity\n",
              "Product Name                                                        \n",
              "Hunt PowerHouse Electric Pencil Sharpener, Blue     448.16        44\n",
              "Boston Heavy-Duty Trimline Electric Pencil Shar...  310.89        25\n",
              "Boston 1645 Deluxe Heavier-Duty Electric Pencil...  206.27        27\n",
              "Dixon Ticonderoga Core-Lock Colored Pencils, 48...  165.21        13\n",
              "Prismacolor Color Pencil Set                        155.55        24"
            ]
          },
          "metadata": {}
        }
      ]
    },
    {
      "cell_type": "code",
      "metadata": {
        "colab": {
          "base_uri": "https://localhost:8080/"
        },
        "id": "SBAbDHbmQOu-",
        "outputId": "20e773d0-d1dc-4a3e-bafb-50d5e628e6a1"
      },
      "source": [
        "#discount and profit by yearly\n",
        "ArtReg = JustArt[[\"Order Date\",\"Product Name\",\"Region\",\"Profit\",\"Discount\",\"Sales\",\"Quantity\"]]\n",
        "CenReg = ArtReg.loc[ArtReg[\"Region\"]==\"Central\"]\n",
        "#print(CenReg)\n",
        "ArtTableYear=CenReg.copy()\n",
        "ArtTableYear['Year']=ArtTableYear['Order Date'].dt.year\n",
        "#print(ArtTableYear.columns)\n",
        "YearlyDiscountArt=ArtTableYear[['Region','Year','Sales','Profit','Discount']].groupby(by='Year').sum()\n",
        "YearlyDiscountArtRounded= (YearlyDiscountArt.round(2))\n",
        "print(YearlyDiscountArtRounded)\n"
      ],
      "execution_count": null,
      "outputs": [
        {
          "output_type": "stream",
          "name": "stdout",
          "text": [
            "        Sales  Profit  Discount\n",
            "Year                           \n",
            "2016  1519.95  261.42       5.4\n",
            "2017  2291.28  497.83      10.0\n",
            "2018   821.95  187.84       3.2\n",
            "2019  1132.16  248.07       3.0\n"
          ]
        }
      ]
    },
    {
      "cell_type": "markdown",
      "metadata": {
        "id": "5AFU2Vy1aNHr"
      },
      "source": [
        "*** Discount rate yearly for Central region graphing"
      ]
    },
    {
      "cell_type": "code",
      "metadata": {
        "colab": {
          "base_uri": "https://localhost:8080/",
          "height": 373
        },
        "id": "vvJwfOuYaNS5",
        "outputId": "b8edc0fb-48c0-4df0-ee04-15d4bdeb7279"
      },
      "source": [
        "YearlyDiscountArtPS=ArtTableYear[['Year','Profit','Sales']].groupby(by='Year').sum()\n",
        "YearlyDiscountArtPS=YearlyDiscountArtPS.reset_index()\n",
        "YearlyDiscountArtPSGraph = pd.melt(YearlyDiscountArtPS,id_vars='Year',var_name='Art',value_name='Discount')\n",
        "catPlot1 = sns.catplot(x=\"Year\", y=\"Discount\", hue=\"Art\", data = YearlyDiscountArtPSGraph, kind='bar')\n",
        "catPlot1.fig.suptitle('Anual Art sales and profit by Central region')\n",
        "plt.show()"
      ],
      "execution_count": null,
      "outputs": [
        {
          "output_type": "display_data",
          "data": {
            "image/png": "[encoded data removed]",
            "text/plain": [
              "<Figure size 422.625x360 with 1 Axes>"
            ]
          },
          "metadata": {
            "needs_background": "light"
          }
        }
      ]
    },
    {
      "cell_type": "markdown",
      "metadata": {
        "id": "aCu0L5dwXDeh"
      },
      "source": [
        "*discount by Central region monthly"
      ]
    },
    {
      "cell_type": "code",
      "metadata": {
        "colab": {
          "base_uri": "https://localhost:8080/"
        },
        "id": "FgBWzsA4XDrk",
        "outputId": "36c446d8-8155-49d6-bde5-98e2d083492e"
      },
      "source": [
        "ArtTableMonth=CenReg.copy()\n",
        "ArtTableMonth['Month']=ArtTableMonth['Order Date'].dt.month\n",
        "#print(ArtTableMonth.columns)\n",
        "MonthlyDiscountArt=ArtTableMonth[['Month','Profit', 'Sales','Discount']].groupby(by=\"Month\").sum()\n",
        "print(MonthlyDiscountArt)"
      ],
      "execution_count": null,
      "outputs": [
        {
          "output_type": "stream",
          "name": "stdout",
          "text": [
            "         Profit     Sales  Discount\n",
            "Month                              \n",
            "1       90.4000   372.256       1.2\n",
            "2       89.9208   356.480       0.8\n",
            "3       63.4143   431.592       1.8\n",
            "4       83.1379   397.292       2.0\n",
            "5      130.8040   627.798       1.6\n",
            "6       24.7270   147.232       1.2\n",
            "7       88.1533   615.912       1.8\n",
            "8       20.2294    63.782       0.6\n",
            "9      138.4632   704.386       2.8\n",
            "10      71.7723   348.026       2.4\n",
            "11     278.0569  1183.256       3.2\n",
            "12     116.0800   517.328       2.2\n"
          ]
        }
      ]
    },
    {
      "cell_type": "code",
      "metadata": {
        "colab": {
          "base_uri": "https://localhost:8080/",
          "height": 427
        },
        "id": "hwLIv-lnXTuU",
        "outputId": "57d9db27-046f-42d9-bba7-5c3518e893f9"
      },
      "source": [
        "MonthlyDiscountArtPS=MonthlyDiscountArt.reset_index()\n",
        "MonthlyDiscountArtPSGraph = pd.melt(MonthlyDiscountArtPS,id_vars='Month',var_name='Art',value_name='Profit')\n",
        "catPlot1 = sns.catplot(x=\"Month\", y=\"Profit\", hue=\"Art\", data = MonthlyDiscountArtPSGraph, kind='bar')\n",
        "catPlot1.fig.suptitle('Monthly Art profit and discount by Central region')\n",
        "plt.show()"
      ],
      "execution_count": null,
      "outputs": [
        {
          "output_type": "stream",
          "name": "stderr",
          "text": [
            "/usr/local/lib/python3.7/dist-packages/IPython/core/interactiveshell.py:2882: FutureWarning: This dataframe has a column name that matches the 'value_name' column name of the resultiing Dataframe. In the future this will raise an error, please set the 'value_name' parameter of DataFrame.melt to a unique name.\n",
            "  exec(code_obj, self.user_global_ns, self.user_ns)\n"
          ]
        },
        {
          "output_type": "display_data",
          "data": {
            "image/png": "[encoded data removed]",
            "text/plain": [
              "<Figure size 440x360 with 1 Axes>"
            ]
          },
          "metadata": {
            "needs_background": "light"
          }
        }
      ]
    },
    {
      "cell_type": "code",
      "metadata": {
        "colab": {
          "base_uri": "https://localhost:8080/",
          "height": 221
        },
        "id": "op-2gJRqUbU1",
        "outputId": "49027702-eeec-4949-801b-ef47fb3ca3fe"
      },
      "source": [
        "ArtStateReg = JustArt[[\"State\",\"Product Name\",\"Region\",\"Profit\",\"Sales\",\"Discount\",\"Quantity\"]]\n",
        "Reg = ArtStateReg.loc[ArtStateReg[\"Region\"]==\"Central\"]\n",
        "CentralArt = Reg.groupby(by=\"State\").sum().sort_values(by = \"Profit\", ascending = False)\n",
        "CentralArtRounded= (CentralArt.round(2))\n",
        "print(\"Here is Central Sales:\")\n",
        "display(CentralArtRounded.head(4))"
      ],
      "execution_count": null,
      "outputs": [
        {
          "output_type": "stream",
          "name": "stdout",
          "text": [
            "Here is Central Sales:\n"
          ]
        },
        {
          "output_type": "display_data",
          "data": {
            "text/html": [
              "<div>\n",
              "<style scoped>\n",
              "    .dataframe tbody tr th:only-of-type {\n",
              "        vertical-align: middle;\n",
              "    }\n",
              "\n",
              "    .dataframe tbody tr th {\n",
              "        vertical-align: top;\n",
              "    }\n",
              "\n",
              "    .dataframe thead th {\n",
              "        text-align: right;\n",
              "    }\n",
              "</style>\n",
              "<table border=\"1\" class=\"dataframe\">\n",
              "  <thead>\n",
              "    <tr style=\"text-align: right;\">\n",
              "      <th></th>\n",
              "      <th>Profit</th>\n",
              "      <th>Sales</th>\n",
              "      <th>Discount</th>\n",
              "      <th>Quantity</th>\n",
              "    </tr>\n",
              "    <tr>\n",
              "      <th>State</th>\n",
              "      <th></th>\n",
              "      <th></th>\n",
              "      <th></th>\n",
              "      <th></th>\n",
              "    </tr>\n",
              "  </thead>\n",
              "  <tbody>\n",
              "    <tr>\n",
              "      <th>Texas</th>\n",
              "      <td>316.35</td>\n",
              "      <td>2369.53</td>\n",
              "      <td>14.2</td>\n",
              "      <td>259</td>\n",
              "    </tr>\n",
              "    <tr>\n",
              "      <th>Michigan</th>\n",
              "      <td>301.37</td>\n",
              "      <td>1004.86</td>\n",
              "      <td>0.0</td>\n",
              "      <td>91</td>\n",
              "    </tr>\n",
              "    <tr>\n",
              "      <th>Illinois</th>\n",
              "      <td>138.95</td>\n",
              "      <td>930.03</td>\n",
              "      <td>7.4</td>\n",
              "      <td>149</td>\n",
              "    </tr>\n",
              "    <tr>\n",
              "      <th>Indiana</th>\n",
              "      <td>123.61</td>\n",
              "      <td>389.19</td>\n",
              "      <td>0.0</td>\n",
              "      <td>54</td>\n",
              "    </tr>\n",
              "  </tbody>\n",
              "</table>\n",
              "</div>"
            ],
            "text/plain": [
              "          Profit    Sales  Discount  Quantity\n",
              "State                                        \n",
              "Texas     316.35  2369.53      14.2       259\n",
              "Michigan  301.37  1004.86       0.0        91\n",
              "Illinois  138.95   930.03       7.4       149\n",
              "Indiana   123.61   389.19       0.0        54"
            ]
          },
          "metadata": {}
        }
      ]
    },
    {
      "cell_type": "code",
      "metadata": {
        "id": "aLHLeAA5z_Hv",
        "colab": {
          "base_uri": "https://localhost:8080/",
          "height": 824
        },
        "outputId": "76b828c5-1c63-4af5-b153-810ebcc9b501"
      },
      "source": [
        "#profit, sale and product name in central region\n",
        "ArtStateReg = JustArt[[\"State\",\"Product Name\",\"Profit\",\"Sales\",\"Quantity\",\"Discount\"]]\n",
        "Reg = ArtStateReg.loc[ArtStateReg[\"State\"]==\"Michigan\"]\n",
        "CentralArt = Reg.groupby(by=\"State\").sum().sort_values(by = \"Profit\", ascending = False)\n",
        "#display(CentralArt)\n",
        "Supplies = SalesData.loc[SalesData[\"Sub-Category\"]==\"Art\"]\n",
        "SupProfit = Supplies[[\"Product Name\",\"Profit\",\"Quantity\",\"Discount\"]].groupby(\"Product Name\").sum().sort_values(by=\"Profit\")\n",
        "\n",
        "CentralArt = Reg.groupby(by=\"Product Name\").sum().sort_values(by = \"Profit\", ascending = False)\n",
        "display(CentralArt)"
      ],
      "execution_count": null,
      "outputs": [
        {
          "output_type": "display_data",
          "data": {
            "text/html": [
              "<div>\n",
              "<style scoped>\n",
              "    .dataframe tbody tr th:only-of-type {\n",
              "        vertical-align: middle;\n",
              "    }\n",
              "\n",
              "    .dataframe tbody tr th {\n",
              "        vertical-align: top;\n",
              "    }\n",
              "\n",
              "    .dataframe thead th {\n",
              "        text-align: right;\n",
              "    }\n",
              "</style>\n",
              "<table border=\"1\" class=\"dataframe\">\n",
              "  <thead>\n",
              "    <tr style=\"text-align: right;\">\n",
              "      <th></th>\n",
              "      <th>Profit</th>\n",
              "      <th>Sales</th>\n",
              "      <th>Quantity</th>\n",
              "      <th>Discount</th>\n",
              "    </tr>\n",
              "    <tr>\n",
              "      <th>Product Name</th>\n",
              "      <th></th>\n",
              "      <th></th>\n",
              "      <th></th>\n",
              "      <th></th>\n",
              "    </tr>\n",
              "  </thead>\n",
              "  <tbody>\n",
              "    <tr>\n",
              "      <th>Boston 1799 Powerhouse Electric Pencil Sharpener</th>\n",
              "      <td>50.9208</td>\n",
              "      <td>181.86</td>\n",
              "      <td>7</td>\n",
              "      <td>0.0</td>\n",
              "    </tr>\n",
              "    <tr>\n",
              "      <th>BOSTON Model 1800 Electric Pencil Sharpeners, Putty/Woodgrain</th>\n",
              "      <td>46.9278</td>\n",
              "      <td>161.82</td>\n",
              "      <td>9</td>\n",
              "      <td>0.0</td>\n",
              "    </tr>\n",
              "    <tr>\n",
              "      <th>Hunt PowerHouse Electric Pencil Sharpener, Blue</th>\n",
              "      <td>45.5760</td>\n",
              "      <td>151.92</td>\n",
              "      <td>4</td>\n",
              "      <td>0.0</td>\n",
              "    </tr>\n",
              "    <tr>\n",
              "      <th>Newell 319</th>\n",
              "      <td>23.8080</td>\n",
              "      <td>79.36</td>\n",
              "      <td>4</td>\n",
              "      <td>0.0</td>\n",
              "    </tr>\n",
              "    <tr>\n",
              "      <th>Avery Hi-Liter EverBold Pen Style Fluorescent Highlighters, 4/Pack</th>\n",
              "      <td>22.7920</td>\n",
              "      <td>56.98</td>\n",
              "      <td>7</td>\n",
              "      <td>0.0</td>\n",
              "    </tr>\n",
              "    <tr>\n",
              "      <th>Newell 34</th>\n",
              "      <td>20.6336</td>\n",
              "      <td>79.36</td>\n",
              "      <td>4</td>\n",
              "      <td>0.0</td>\n",
              "    </tr>\n",
              "    <tr>\n",
              "      <th>Panasonic KP-4ABK Battery-Operated Pencil Sharpener</th>\n",
              "      <td>12.7368</td>\n",
              "      <td>43.92</td>\n",
              "      <td>3</td>\n",
              "      <td>0.0</td>\n",
              "    </tr>\n",
              "    <tr>\n",
              "      <th>BIC Liqua Brite Liner</th>\n",
              "      <td>12.4920</td>\n",
              "      <td>34.70</td>\n",
              "      <td>5</td>\n",
              "      <td>0.0</td>\n",
              "    </tr>\n",
              "    <tr>\n",
              "      <th>Avery Hi-Liter Smear-Safe Highlighters</th>\n",
              "      <td>10.5120</td>\n",
              "      <td>29.20</td>\n",
              "      <td>5</td>\n",
              "      <td>0.0</td>\n",
              "    </tr>\n",
              "    <tr>\n",
              "      <th>BOSTON Ranger #55 Pencil Sharpener, Black</th>\n",
              "      <td>7.5371</td>\n",
              "      <td>25.99</td>\n",
              "      <td>1</td>\n",
              "      <td>0.0</td>\n",
              "    </tr>\n",
              "    <tr>\n",
              "      <th>Stanley Contemporary Battery Pencil Sharpeners</th>\n",
              "      <td>7.4760</td>\n",
              "      <td>26.70</td>\n",
              "      <td>2</td>\n",
              "      <td>0.0</td>\n",
              "    </tr>\n",
              "    <tr>\n",
              "      <th>Fluorescent Highlighters by Dixon</th>\n",
              "      <td>5.4128</td>\n",
              "      <td>15.92</td>\n",
              "      <td>4</td>\n",
              "      <td>0.0</td>\n",
              "    </tr>\n",
              "    <tr>\n",
              "      <th>Newell 321</th>\n",
              "      <td>4.7560</td>\n",
              "      <td>16.40</td>\n",
              "      <td>5</td>\n",
              "      <td>0.0</td>\n",
              "    </tr>\n",
              "    <tr>\n",
              "      <th>Binney &amp; Smith Crayola Metallic Colored Pencils, 8-Color Set</th>\n",
              "      <td>4.5837</td>\n",
              "      <td>13.89</td>\n",
              "      <td>3</td>\n",
              "      <td>0.0</td>\n",
              "    </tr>\n",
              "    <tr>\n",
              "      <th>Prang Drawing Pencil Set</th>\n",
              "      <td>3.7530</td>\n",
              "      <td>13.90</td>\n",
              "      <td>5</td>\n",
              "      <td>0.0</td>\n",
              "    </tr>\n",
              "    <tr>\n",
              "      <th>Newell 333</th>\n",
              "      <td>3.6140</td>\n",
              "      <td>13.90</td>\n",
              "      <td>5</td>\n",
              "      <td>0.0</td>\n",
              "    </tr>\n",
              "    <tr>\n",
              "      <th>Newell 312</th>\n",
              "      <td>3.5040</td>\n",
              "      <td>11.68</td>\n",
              "      <td>2</td>\n",
              "      <td>0.0</td>\n",
              "    </tr>\n",
              "    <tr>\n",
              "      <th>Avery Hi-Liter Comfort Grip Fluorescent Highlighter, Yellow Ink</th>\n",
              "      <td>3.0420</td>\n",
              "      <td>7.80</td>\n",
              "      <td>4</td>\n",
              "      <td>0.0</td>\n",
              "    </tr>\n",
              "    <tr>\n",
              "      <th>Newell 315</th>\n",
              "      <td>2.9900</td>\n",
              "      <td>11.96</td>\n",
              "      <td>2</td>\n",
              "      <td>0.0</td>\n",
              "    </tr>\n",
              "    <tr>\n",
              "      <th>Newell 350</th>\n",
              "      <td>2.8536</td>\n",
              "      <td>9.84</td>\n",
              "      <td>3</td>\n",
              "      <td>0.0</td>\n",
              "    </tr>\n",
              "    <tr>\n",
              "      <th>Newell 335</th>\n",
              "      <td>2.5056</td>\n",
              "      <td>8.64</td>\n",
              "      <td>3</td>\n",
              "      <td>0.0</td>\n",
              "    </tr>\n",
              "    <tr>\n",
              "      <th>Newell 307</th>\n",
              "      <td>1.0192</td>\n",
              "      <td>3.64</td>\n",
              "      <td>2</td>\n",
              "      <td>0.0</td>\n",
              "    </tr>\n",
              "    <tr>\n",
              "      <th>Sanford Uni-Blazer View Highlighters, Chisel Tip, Yellow</th>\n",
              "      <td>0.9680</td>\n",
              "      <td>2.20</td>\n",
              "      <td>1</td>\n",
              "      <td>0.0</td>\n",
              "    </tr>\n",
              "    <tr>\n",
              "      <th>Newell 351</th>\n",
              "      <td>0.9512</td>\n",
              "      <td>3.28</td>\n",
              "      <td>1</td>\n",
              "      <td>0.0</td>\n",
              "    </tr>\n",
              "  </tbody>\n",
              "</table>\n",
              "</div>"
            ],
            "text/plain": [
              "                                                     Profit  ...  Discount\n",
              "Product Name                                                 ...          \n",
              "Boston 1799 Powerhouse Electric Pencil Sharpener    50.9208  ...       0.0\n",
              "BOSTON Model 1800 Electric Pencil Sharpeners, P...  46.9278  ...       0.0\n",
              "Hunt PowerHouse Electric Pencil Sharpener, Blue     45.5760  ...       0.0\n",
              "Newell 319                                          23.8080  ...       0.0\n",
              "Avery Hi-Liter EverBold Pen Style Fluorescent H...  22.7920  ...       0.0\n",
              "Newell 34                                           20.6336  ...       0.0\n",
              "Panasonic KP-4ABK Battery-Operated Pencil Sharp...  12.7368  ...       0.0\n",
              "BIC Liqua Brite Liner                               12.4920  ...       0.0\n",
              "Avery Hi-Liter Smear-Safe Highlighters              10.5120  ...       0.0\n",
              "BOSTON Ranger #55 Pencil Sharpener, Black            7.5371  ...       0.0\n",
              "Stanley Contemporary Battery Pencil Sharpeners       7.4760  ...       0.0\n",
              "Fluorescent Highlighters by Dixon                    5.4128  ...       0.0\n",
              "Newell 321                                           4.7560  ...       0.0\n",
              "Binney & Smith Crayola Metallic Colored Pencils...   4.5837  ...       0.0\n",
              "Prang Drawing Pencil Set                             3.7530  ...       0.0\n",
              "Newell 333                                           3.6140  ...       0.0\n",
              "Newell 312                                           3.5040  ...       0.0\n",
              "Avery Hi-Liter Comfort Grip Fluorescent Highlig...   3.0420  ...       0.0\n",
              "Newell 315                                           2.9900  ...       0.0\n",
              "Newell 350                                           2.8536  ...       0.0\n",
              "Newell 335                                           2.5056  ...       0.0\n",
              "Newell 307                                           1.0192  ...       0.0\n",
              "Sanford Uni-Blazer View Highlighters, Chisel Ti...   0.9680  ...       0.0\n",
              "Newell 351                                           0.9512  ...       0.0\n",
              "\n",
              "[24 rows x 4 columns]"
            ]
          },
          "metadata": {}
        }
      ]
    },
    {
      "cell_type": "markdown",
      "metadata": {
        "id": "gnMiBSWlz_Sb"
      },
      "source": [
        "** Searching states from all region\n"
      ]
    },
    {
      "cell_type": "code",
      "metadata": {
        "id": "y4bgb6FDz_bl",
        "colab": {
          "base_uri": "https://localhost:8080/",
          "height": 450
        },
        "outputId": "a63c74d9-ae2b-4708-8ced-1e76fee5da10"
      },
      "source": [
        "ArtStateReg = JustArt[[\"State\",\"Product Name\",\"Profit\",\"Sales\",\"Quantity\",\"Discount\"]]\n",
        "States = ArtStateReg.loc[ArtStateReg[\"State\"]==\"Washington\"]\n",
        "CentralArt = States.groupby(by=\"State\").sum().sort_values(by = \"Profit\", ascending = False)\n",
        "\n",
        "Supplies = SalesData.loc[SalesData[\"Sub-Category\"]==\"Art\"]\n",
        "SupProfit = Supplies[[\"Product Name\",\"Profit\",\"Quantity\",\"Discount\"]].groupby(\"Product Name\").sum().sort_values(by=\"Profit\")\n",
        "\n",
        "CentralArt = Reg.groupby(by=\"Product Name\").sum().sort_values(by = \"Profit\", ascending = False)\n",
        "display(CentralArt)"
      ],
      "execution_count": null,
      "outputs": [
        {
          "output_type": "display_data",
          "data": {
            "text/html": [
              "<div>\n",
              "<style scoped>\n",
              "    .dataframe tbody tr th:only-of-type {\n",
              "        vertical-align: middle;\n",
              "    }\n",
              "\n",
              "    .dataframe tbody tr th {\n",
              "        vertical-align: top;\n",
              "    }\n",
              "\n",
              "    .dataframe thead th {\n",
              "        text-align: right;\n",
              "    }\n",
              "</style>\n",
              "<table border=\"1\" class=\"dataframe\">\n",
              "  <thead>\n",
              "    <tr style=\"text-align: right;\">\n",
              "      <th></th>\n",
              "      <th>Profit</th>\n",
              "      <th>Sales</th>\n",
              "      <th>Discount</th>\n",
              "      <th>Quantity</th>\n",
              "    </tr>\n",
              "    <tr>\n",
              "      <th>Product Name</th>\n",
              "      <th></th>\n",
              "      <th></th>\n",
              "      <th></th>\n",
              "      <th></th>\n",
              "    </tr>\n",
              "  </thead>\n",
              "  <tbody>\n",
              "    <tr>\n",
              "      <th>Hunt PowerHouse Electric Pencil Sharpener, Blue</th>\n",
              "      <td>87.3540</td>\n",
              "      <td>379.800</td>\n",
              "      <td>0.4</td>\n",
              "      <td>11</td>\n",
              "    </tr>\n",
              "    <tr>\n",
              "      <th>Boston 1645 Deluxe Heavier-Duty Electric Pencil Sharpener</th>\n",
              "      <td>63.3312</td>\n",
              "      <td>448.596</td>\n",
              "      <td>0.6</td>\n",
              "      <td>12</td>\n",
              "    </tr>\n",
              "    <tr>\n",
              "      <th>Hunt Boston Vacuum Mount KS Pencil Sharpener</th>\n",
              "      <td>54.5844</td>\n",
              "      <td>209.940</td>\n",
              "      <td>0.0</td>\n",
              "      <td>6</td>\n",
              "    </tr>\n",
              "    <tr>\n",
              "      <th>Dixon Ticonderoga Core-Lock Colored Pencils, 48-Color Set</th>\n",
              "      <td>52.6320</td>\n",
              "      <td>175.440</td>\n",
              "      <td>0.2</td>\n",
              "      <td>6</td>\n",
              "    </tr>\n",
              "    <tr>\n",
              "      <th>Boston 1799 Powerhouse Electric Pencil Sharpener</th>\n",
              "      <td>50.9208</td>\n",
              "      <td>181.860</td>\n",
              "      <td>0.0</td>\n",
              "      <td>7</td>\n",
              "    </tr>\n",
              "    <tr>\n",
              "      <th>...</th>\n",
              "      <td>...</td>\n",
              "      <td>...</td>\n",
              "      <td>...</td>\n",
              "      <td>...</td>\n",
              "    </tr>\n",
              "    <tr>\n",
              "      <th>Eldon Spacemaker Box, Quick-Snap Lid, Clear</th>\n",
              "      <td>0.7348</td>\n",
              "      <td>5.344</td>\n",
              "      <td>0.2</td>\n",
              "      <td>2</td>\n",
              "    </tr>\n",
              "    <tr>\n",
              "      <th>Newell 32</th>\n",
              "      <td>0.6912</td>\n",
              "      <td>6.912</td>\n",
              "      <td>0.2</td>\n",
              "      <td>3</td>\n",
              "    </tr>\n",
              "    <tr>\n",
              "      <th>Blackstonian Pencils</th>\n",
              "      <td>0.6408</td>\n",
              "      <td>6.408</td>\n",
              "      <td>0.2</td>\n",
              "      <td>3</td>\n",
              "    </tr>\n",
              "    <tr>\n",
              "      <th>12 Colored Short Pencils</th>\n",
              "      <td>0.5460</td>\n",
              "      <td>6.240</td>\n",
              "      <td>0.2</td>\n",
              "      <td>3</td>\n",
              "    </tr>\n",
              "    <tr>\n",
              "      <th>Design Ebony Sketching Pencil</th>\n",
              "      <td>0.5004</td>\n",
              "      <td>6.672</td>\n",
              "      <td>0.2</td>\n",
              "      <td>6</td>\n",
              "    </tr>\n",
              "  </tbody>\n",
              "</table>\n",
              "<p>103 rows × 4 columns</p>\n",
              "</div>"
            ],
            "text/plain": [
              "                                                     Profit  ...  Quantity\n",
              "Product Name                                                 ...          \n",
              "Hunt PowerHouse Electric Pencil Sharpener, Blue     87.3540  ...        11\n",
              "Boston 1645 Deluxe Heavier-Duty Electric Pencil...  63.3312  ...        12\n",
              "Hunt Boston Vacuum Mount KS Pencil Sharpener        54.5844  ...         6\n",
              "Dixon Ticonderoga Core-Lock Colored Pencils, 48...  52.6320  ...         6\n",
              "Boston 1799 Powerhouse Electric Pencil Sharpener    50.9208  ...         7\n",
              "...                                                     ...  ...       ...\n",
              "Eldon Spacemaker Box, Quick-Snap Lid, Clear          0.7348  ...         2\n",
              "Newell 32                                            0.6912  ...         3\n",
              "Blackstonian Pencils                                 0.6408  ...         3\n",
              "12 Colored Short Pencils                             0.5460  ...         3\n",
              "Design Ebony Sketching Pencil                        0.5004  ...         6\n",
              "\n",
              "[103 rows x 4 columns]"
            ]
          },
          "metadata": {}
        }
      ]
    },
    {
      "cell_type": "markdown",
      "metadata": {
        "id": "YhTEvaaaznRi"
      },
      "source": [
        "* the most profitable product in Central region"
      ]
    },
    {
      "cell_type": "code",
      "metadata": {
        "colab": {
          "base_uri": "https://localhost:8080/",
          "height": 450
        },
        "id": "-WYTOxBXUblS",
        "outputId": "81347d35-0636-4568-9ad6-5df61630f4db"
      },
      "source": [
        "ArtStateReg = JustArt[[\"State\",\"Product Name\",\"Region\",\"Profit\",\"Sales\",\"Quantity\",\"Discount\"]]\n",
        "Reg = ArtStateReg.loc[ArtStateReg[\"Region\"]==\"Central\"]\n",
        "CentralArt = Reg.groupby(by=\"State\").sum().sort_values(by = \"Profit\", ascending = False)\n",
        "\n",
        "Supplies = SalesData.loc[SalesData[\"Sub-Category\"]==\"Art\"]\n",
        "SupProfit = Supplies[[\"Product Name\",\"Profit\",\"Quantity\",\"Discount\"]].groupby(\"Product Name\").sum().sort_values(by=\"Profit\")\n",
        "\n",
        "CentralArt = Reg.groupby(by=\"Product Name\").sum().sort_values(by = \"Profit\", ascending = False)\n",
        "display(CentralArt)"
      ],
      "execution_count": null,
      "outputs": [
        {
          "output_type": "display_data",
          "data": {
            "text/html": [
              "<div>\n",
              "<style scoped>\n",
              "    .dataframe tbody tr th:only-of-type {\n",
              "        vertical-align: middle;\n",
              "    }\n",
              "\n",
              "    .dataframe tbody tr th {\n",
              "        vertical-align: top;\n",
              "    }\n",
              "\n",
              "    .dataframe thead th {\n",
              "        text-align: right;\n",
              "    }\n",
              "</style>\n",
              "<table border=\"1\" class=\"dataframe\">\n",
              "  <thead>\n",
              "    <tr style=\"text-align: right;\">\n",
              "      <th></th>\n",
              "      <th>Profit</th>\n",
              "      <th>Sales</th>\n",
              "      <th>Quantity</th>\n",
              "      <th>Discount</th>\n",
              "    </tr>\n",
              "    <tr>\n",
              "      <th>Product Name</th>\n",
              "      <th></th>\n",
              "      <th></th>\n",
              "      <th></th>\n",
              "      <th></th>\n",
              "    </tr>\n",
              "  </thead>\n",
              "  <tbody>\n",
              "    <tr>\n",
              "      <th>Hunt PowerHouse Electric Pencil Sharpener, Blue</th>\n",
              "      <td>87.3540</td>\n",
              "      <td>379.800</td>\n",
              "      <td>11</td>\n",
              "      <td>0.4</td>\n",
              "    </tr>\n",
              "    <tr>\n",
              "      <th>Boston 1645 Deluxe Heavier-Duty Electric Pencil Sharpener</th>\n",
              "      <td>63.3312</td>\n",
              "      <td>448.596</td>\n",
              "      <td>12</td>\n",
              "      <td>0.6</td>\n",
              "    </tr>\n",
              "    <tr>\n",
              "      <th>Hunt Boston Vacuum Mount KS Pencil Sharpener</th>\n",
              "      <td>54.5844</td>\n",
              "      <td>209.940</td>\n",
              "      <td>6</td>\n",
              "      <td>0.0</td>\n",
              "    </tr>\n",
              "    <tr>\n",
              "      <th>Dixon Ticonderoga Core-Lock Colored Pencils, 48-Color Set</th>\n",
              "      <td>52.6320</td>\n",
              "      <td>175.440</td>\n",
              "      <td>6</td>\n",
              "      <td>0.2</td>\n",
              "    </tr>\n",
              "    <tr>\n",
              "      <th>Boston 1799 Powerhouse Electric Pencil Sharpener</th>\n",
              "      <td>50.9208</td>\n",
              "      <td>181.860</td>\n",
              "      <td>7</td>\n",
              "      <td>0.0</td>\n",
              "    </tr>\n",
              "    <tr>\n",
              "      <th>...</th>\n",
              "      <td>...</td>\n",
              "      <td>...</td>\n",
              "      <td>...</td>\n",
              "      <td>...</td>\n",
              "    </tr>\n",
              "    <tr>\n",
              "      <th>Eldon Spacemaker Box, Quick-Snap Lid, Clear</th>\n",
              "      <td>0.7348</td>\n",
              "      <td>5.344</td>\n",
              "      <td>2</td>\n",
              "      <td>0.2</td>\n",
              "    </tr>\n",
              "    <tr>\n",
              "      <th>Newell 32</th>\n",
              "      <td>0.6912</td>\n",
              "      <td>6.912</td>\n",
              "      <td>3</td>\n",
              "      <td>0.2</td>\n",
              "    </tr>\n",
              "    <tr>\n",
              "      <th>Blackstonian Pencils</th>\n",
              "      <td>0.6408</td>\n",
              "      <td>6.408</td>\n",
              "      <td>3</td>\n",
              "      <td>0.2</td>\n",
              "    </tr>\n",
              "    <tr>\n",
              "      <th>12 Colored Short Pencils</th>\n",
              "      <td>0.5460</td>\n",
              "      <td>6.240</td>\n",
              "      <td>3</td>\n",
              "      <td>0.2</td>\n",
              "    </tr>\n",
              "    <tr>\n",
              "      <th>Design Ebony Sketching Pencil</th>\n",
              "      <td>0.5004</td>\n",
              "      <td>6.672</td>\n",
              "      <td>6</td>\n",
              "      <td>0.2</td>\n",
              "    </tr>\n",
              "  </tbody>\n",
              "</table>\n",
              "<p>103 rows × 4 columns</p>\n",
              "</div>"
            ],
            "text/plain": [
              "                                                     Profit  ...  Discount\n",
              "Product Name                                                 ...          \n",
              "Hunt PowerHouse Electric Pencil Sharpener, Blue     87.3540  ...       0.4\n",
              "Boston 1645 Deluxe Heavier-Duty Electric Pencil...  63.3312  ...       0.6\n",
              "Hunt Boston Vacuum Mount KS Pencil Sharpener        54.5844  ...       0.0\n",
              "Dixon Ticonderoga Core-Lock Colored Pencils, 48...  52.6320  ...       0.2\n",
              "Boston 1799 Powerhouse Electric Pencil Sharpener    50.9208  ...       0.0\n",
              "...                                                     ...  ...       ...\n",
              "Eldon Spacemaker Box, Quick-Snap Lid, Clear          0.7348  ...       0.2\n",
              "Newell 32                                            0.6912  ...       0.2\n",
              "Blackstonian Pencils                                 0.6408  ...       0.2\n",
              "12 Colored Short Pencils                             0.5460  ...       0.2\n",
              "Design Ebony Sketching Pencil                        0.5004  ...       0.2\n",
              "\n",
              "[103 rows x 4 columns]"
            ]
          },
          "metadata": {}
        }
      ]
    },
    {
      "cell_type": "markdown",
      "metadata": {
        "id": "MWtDEvABz2NU"
      },
      "source": [
        "* the less profitable product in Central region"
      ]
    },
    {
      "cell_type": "code",
      "metadata": {
        "colab": {
          "base_uri": "https://localhost:8080/",
          "height": 450
        },
        "id": "Ca-mXxikzdA9",
        "outputId": "b2c51865-d2f3-487e-f2ee-a5e06ed571b7"
      },
      "source": [
        "ArtStateReg = JustArt[[\"State\",\"Product Name\",\"Region\",\"Profit\",\"Sales\",\"Quantity\",\"Discount\"]]\n",
        "Reg = ArtStateReg.loc[ArtStateReg[\"Region\"]==\"Central\"]\n",
        "CentralArt = Reg.groupby(by=\"State\").sum().sort_values(by = \"Profit\", ascending = False)\n",
        "\n",
        "Supplies = SalesData.loc[SalesData[\"Sub-Category\"]==\"Art\"]\n",
        "SupProfit = Supplies[[\"Product Name\",\"Profit\",\"Quantity\",\"Discount\"]].groupby(\"Product Name\").sum().sort_values(by=\"Profit\")\n",
        "\n",
        "CentralArt = Reg.groupby(by=\"Product Name\").sum().sort_values(by = \"Profit\", ascending = True)\n",
        "display(CentralArt)"
      ],
      "execution_count": null,
      "outputs": [
        {
          "output_type": "display_data",
          "data": {
            "text/html": [
              "<div>\n",
              "<style scoped>\n",
              "    .dataframe tbody tr th:only-of-type {\n",
              "        vertical-align: middle;\n",
              "    }\n",
              "\n",
              "    .dataframe tbody tr th {\n",
              "        vertical-align: top;\n",
              "    }\n",
              "\n",
              "    .dataframe thead th {\n",
              "        text-align: right;\n",
              "    }\n",
              "</style>\n",
              "<table border=\"1\" class=\"dataframe\">\n",
              "  <thead>\n",
              "    <tr style=\"text-align: right;\">\n",
              "      <th></th>\n",
              "      <th>Profit</th>\n",
              "      <th>Sales</th>\n",
              "      <th>Quantity</th>\n",
              "      <th>Discount</th>\n",
              "    </tr>\n",
              "    <tr>\n",
              "      <th>Product Name</th>\n",
              "      <th></th>\n",
              "      <th></th>\n",
              "      <th></th>\n",
              "      <th></th>\n",
              "    </tr>\n",
              "  </thead>\n",
              "  <tbody>\n",
              "    <tr>\n",
              "      <th>Design Ebony Sketching Pencil</th>\n",
              "      <td>0.5004</td>\n",
              "      <td>6.672</td>\n",
              "      <td>6</td>\n",
              "      <td>0.2</td>\n",
              "    </tr>\n",
              "    <tr>\n",
              "      <th>12 Colored Short Pencils</th>\n",
              "      <td>0.5460</td>\n",
              "      <td>6.240</td>\n",
              "      <td>3</td>\n",
              "      <td>0.2</td>\n",
              "    </tr>\n",
              "    <tr>\n",
              "      <th>Blackstonian Pencils</th>\n",
              "      <td>0.6408</td>\n",
              "      <td>6.408</td>\n",
              "      <td>3</td>\n",
              "      <td>0.2</td>\n",
              "    </tr>\n",
              "    <tr>\n",
              "      <th>Newell 32</th>\n",
              "      <td>0.6912</td>\n",
              "      <td>6.912</td>\n",
              "      <td>3</td>\n",
              "      <td>0.2</td>\n",
              "    </tr>\n",
              "    <tr>\n",
              "      <th>Eldon Spacemaker Box, Quick-Snap Lid, Clear</th>\n",
              "      <td>0.7348</td>\n",
              "      <td>5.344</td>\n",
              "      <td>2</td>\n",
              "      <td>0.2</td>\n",
              "    </tr>\n",
              "    <tr>\n",
              "      <th>...</th>\n",
              "      <td>...</td>\n",
              "      <td>...</td>\n",
              "      <td>...</td>\n",
              "      <td>...</td>\n",
              "    </tr>\n",
              "    <tr>\n",
              "      <th>Boston 1799 Powerhouse Electric Pencil Sharpener</th>\n",
              "      <td>50.9208</td>\n",
              "      <td>181.860</td>\n",
              "      <td>7</td>\n",
              "      <td>0.0</td>\n",
              "    </tr>\n",
              "    <tr>\n",
              "      <th>Dixon Ticonderoga Core-Lock Colored Pencils, 48-Color Set</th>\n",
              "      <td>52.6320</td>\n",
              "      <td>175.440</td>\n",
              "      <td>6</td>\n",
              "      <td>0.2</td>\n",
              "    </tr>\n",
              "    <tr>\n",
              "      <th>Hunt Boston Vacuum Mount KS Pencil Sharpener</th>\n",
              "      <td>54.5844</td>\n",
              "      <td>209.940</td>\n",
              "      <td>6</td>\n",
              "      <td>0.0</td>\n",
              "    </tr>\n",
              "    <tr>\n",
              "      <th>Boston 1645 Deluxe Heavier-Duty Electric Pencil Sharpener</th>\n",
              "      <td>63.3312</td>\n",
              "      <td>448.596</td>\n",
              "      <td>12</td>\n",
              "      <td>0.6</td>\n",
              "    </tr>\n",
              "    <tr>\n",
              "      <th>Hunt PowerHouse Electric Pencil Sharpener, Blue</th>\n",
              "      <td>87.3540</td>\n",
              "      <td>379.800</td>\n",
              "      <td>11</td>\n",
              "      <td>0.4</td>\n",
              "    </tr>\n",
              "  </tbody>\n",
              "</table>\n",
              "<p>103 rows × 4 columns</p>\n",
              "</div>"
            ],
            "text/plain": [
              "                                                     Profit  ...  Discount\n",
              "Product Name                                                 ...          \n",
              "Design Ebony Sketching Pencil                        0.5004  ...       0.2\n",
              "12 Colored Short Pencils                             0.5460  ...       0.2\n",
              "Blackstonian Pencils                                 0.6408  ...       0.2\n",
              "Newell 32                                            0.6912  ...       0.2\n",
              "Eldon Spacemaker Box, Quick-Snap Lid, Clear          0.7348  ...       0.2\n",
              "...                                                     ...  ...       ...\n",
              "Boston 1799 Powerhouse Electric Pencil Sharpener    50.9208  ...       0.0\n",
              "Dixon Ticonderoga Core-Lock Colored Pencils, 48...  52.6320  ...       0.2\n",
              "Hunt Boston Vacuum Mount KS Pencil Sharpener        54.5844  ...       0.0\n",
              "Boston 1645 Deluxe Heavier-Duty Electric Pencil...  63.3312  ...       0.6\n",
              "Hunt PowerHouse Electric Pencil Sharpener, Blue     87.3540  ...       0.4\n",
              "\n",
              "[103 rows x 4 columns]"
            ]
          },
          "metadata": {}
        }
      ]
    },
    {
      "cell_type": "code",
      "metadata": {
        "colab": {
          "base_uri": "https://localhost:8080/"
        },
        "id": "c-5vDrCrUbnQ",
        "outputId": "a74b9767-e3e1-4421-e900-9524ecbb2cdd"
      },
      "source": [
        "JustArt = SalesData.loc[SalesData[\"Sub-Category\"]==\"Art\"]\n",
        "TotsSale = JustArt[[\"State\",\"Region\",\"Sub-Category\",\"Profit\",\"Sales\", \"Quantity\"]]\n",
        "Sale = TotsSale.groupby(by=[\"Region\",\"State\"]).sum()\n",
        "print(Sale)"
      ],
      "execution_count": null,
      "outputs": [
        {
          "output_type": "stream",
          "name": "stdout",
          "text": [
            "                                 Profit     Sales  Quantity\n",
            "Region  State                                              \n",
            "Central Illinois               138.9541   930.032       149\n",
            "        Indiana                123.6134   389.190        54\n",
            "        Iowa                    45.4938   146.580         8\n",
            "        Kansas                  45.9516   162.720        14\n",
            "        Michigan               301.3652  1004.860        91\n",
            "        Minnesota               36.5706   102.810        32\n",
            "        Missouri                66.1596   239.620        13\n",
            "        Nebraska                 5.0596    19.460         7\n",
            "        North Dakota            51.8812   181.840        18\n",
            "        Oklahoma                19.0864    58.910        11\n",
            "        Texas                  316.3538  2369.528       259\n",
            "        Wisconsin               44.6698   159.790        22\n",
            "East    Connecticut             70.4846   191.660        26\n",
            "        Delaware               159.6312   535.350        43\n",
            "        District of Columbia    22.0974    56.660        11\n",
            "        Maryland               132.7864   433.690        45\n",
            "        Massachusetts           66.8097   226.050        30\n",
            "        New Hampshire           80.3052   266.400        15\n",
            "        New Jersey             203.2929   742.800        37\n",
            "        New York               902.0926  2983.600       336\n",
            "        Ohio                   103.2376   840.104       140\n",
            "        Pennsylvania           137.7581  1152.160       155\n",
            "        Rhode Island            18.7150    49.250         5\n",
            "        Vermont                  2.7336     8.040         6\n",
            "South   Alabama                 88.5344   301.210        38\n",
            "        Arkansas                23.7318    78.300        27\n",
            "        Florida                 77.9391   710.920        91\n",
            "        Georgia                159.7128   526.680        55\n",
            "        Kentucky                98.6060   350.720        40\n",
            "        Louisiana               36.9920   129.500         7\n",
            "        Mississippi            162.5556   606.660        22\n",
            "        North Carolina          78.9165   603.392       107\n",
            "        South Carolina           9.9096    35.440         7\n",
            "        Tennessee               62.7135   436.480        65\n",
            "        Virginia               258.9753   876.320        88\n",
            "West    Arizona                140.9434  1389.152        47\n",
            "        California            1614.8365  5495.660       644\n",
            "        Colorado                25.0943   210.624        32\n",
            "        Nevada                  59.5788   214.280        16\n",
            "        New Mexico             119.3198   276.700        17\n",
            "        Oregon                  65.2760   461.760        51\n",
            "        Utah                    28.8803   100.050        10\n",
            "        Washington             320.1679  1063.840       109\n"
          ]
        }
      ]
    },
    {
      "cell_type": "code",
      "metadata": {
        "id": "NeuLFDNUUbxQ"
      },
      "source": [
        "ArtStateReg = JustArt[[\"State\",\"Product Name\",\"Profit\",\"Sales\",\"Quantity\",\"Discount\"]]\n",
        "Reg = ArtStateReg.loc[ArtStateReg[\"State\"]==\"Texas\"]\n",
        "CentralArt = Reg.groupby(by=\"State\").sum().sort_values(by = \"Profit\", ascending = False)\n",
        "\n",
        "Supplies = SalesData.loc[SalesData[\"Sub-Category\"]==\"Art\"]\n",
        "SupProfit = Supplies[[\"Product Name\",\"Profit\",\"Quantity\",\"Discount\"]].groupby(\"Product Name\").sum().sort_values(by=\"Profit\")\n",
        "\n",
        "CentralArt = Reg.groupby(by=\"Product Name\").sum().sort_values(by = \"Profit\", ascending = False)\n",
        "display(CentralArt)"
      ],
      "execution_count": null,
      "outputs": []
    },
    {
      "cell_type": "code",
      "metadata": {
        "id": "el8Mwlyi5Uv0",
        "colab": {
          "base_uri": "https://localhost:8080/",
          "height": 173
        },
        "outputId": "8e9799af-e3f8-4d54-a20c-85d7ea082ca2"
      },
      "source": [
        "ArtStateReg = JustArt[[\"State\",\"Segment\",\"Profit\",\"Sales\",\"Quantity\",\"Discount\"]]\n",
        "Reg = ArtStateReg.loc[ArtStateReg[\"State\"]==\"Texas\"]\n",
        "CentralArt = Reg.groupby(by=\"State\").sum().sort_values(by = \"Profit\", ascending = False)\n",
        "\n",
        "Supplies = SalesData.loc[SalesData[\"Sub-Category\"]==\"Art\"]\n",
        "SupProfit = Supplies[[\"Product Name\",\"Profit\",\"Quantity\",\"Discount\"]].groupby(\"Product Name\").sum().sort_values(by=\"Profit\")\n",
        "\n",
        "CentralArt = Reg.groupby(by=\"Segment\").sum().sort_values(by = \"Profit\", ascending = False)\n",
        "display(CentralArt)"
      ],
      "execution_count": null,
      "outputs": [
        {
          "output_type": "display_data",
          "data": {
            "text/html": [
              "<div>\n",
              "<style scoped>\n",
              "    .dataframe tbody tr th:only-of-type {\n",
              "        vertical-align: middle;\n",
              "    }\n",
              "\n",
              "    .dataframe tbody tr th {\n",
              "        vertical-align: top;\n",
              "    }\n",
              "\n",
              "    .dataframe thead th {\n",
              "        text-align: right;\n",
              "    }\n",
              "</style>\n",
              "<table border=\"1\" class=\"dataframe\">\n",
              "  <thead>\n",
              "    <tr style=\"text-align: right;\">\n",
              "      <th></th>\n",
              "      <th>Profit</th>\n",
              "      <th>Sales</th>\n",
              "      <th>Quantity</th>\n",
              "      <th>Discount</th>\n",
              "    </tr>\n",
              "    <tr>\n",
              "      <th>Segment</th>\n",
              "      <th></th>\n",
              "      <th></th>\n",
              "      <th></th>\n",
              "      <th></th>\n",
              "    </tr>\n",
              "  </thead>\n",
              "  <tbody>\n",
              "    <tr>\n",
              "      <th>Consumer</th>\n",
              "      <td>185.7929</td>\n",
              "      <td>1592.280</td>\n",
              "      <td>158</td>\n",
              "      <td>8.6</td>\n",
              "    </tr>\n",
              "    <tr>\n",
              "      <th>Home Office</th>\n",
              "      <td>80.9679</td>\n",
              "      <td>372.640</td>\n",
              "      <td>42</td>\n",
              "      <td>2.4</td>\n",
              "    </tr>\n",
              "    <tr>\n",
              "      <th>Corporate</th>\n",
              "      <td>49.5930</td>\n",
              "      <td>404.608</td>\n",
              "      <td>59</td>\n",
              "      <td>3.2</td>\n",
              "    </tr>\n",
              "  </tbody>\n",
              "</table>\n",
              "</div>"
            ],
            "text/plain": [
              "               Profit     Sales  Quantity  Discount\n",
              "Segment                                            \n",
              "Consumer     185.7929  1592.280       158       8.6\n",
              "Home Office   80.9679   372.640        42       2.4\n",
              "Corporate     49.5930   404.608        59       3.2"
            ]
          },
          "metadata": {}
        }
      ]
    },
    {
      "cell_type": "code",
      "metadata": {
        "colab": {
          "base_uri": "https://localhost:8080/",
          "height": 173
        },
        "id": "XWO_A_WyIACR",
        "outputId": "e68e2676-4878-4095-ec52-96f4f5786adf"
      },
      "source": [
        "ArtStateReg = JustArt[[\"Segment\",\"Product Name\",\"Region\",\"Profit\",\"Sales\",\"Quantity\",\"Discount\"]]\n",
        "Reg = ArtStateReg.loc[ArtStateReg[\"Region\"]==\"Central\"]\n",
        "\n",
        "\n",
        "Supplies = SalesData.loc[SalesData[\"Sub-Category\"]==\"Art\"]\n",
        "SupProfit = Supplies[[\"Product Name\",\"Profit\",\"Quantity\",\"Discount\"]].groupby(\"Product Name\").sum().sort_values(by=\"Profit\")\n",
        "\n",
        "CentralArt = Reg.groupby(by=\"Segment\").sum().sort_values(by = \"Profit\", ascending = False)\n",
        "display(CentralArt)"
      ],
      "execution_count": null,
      "outputs": [
        {
          "output_type": "display_data",
          "data": {
            "text/html": [
              "<div>\n",
              "<style scoped>\n",
              "    .dataframe tbody tr th:only-of-type {\n",
              "        vertical-align: middle;\n",
              "    }\n",
              "\n",
              "    .dataframe tbody tr th {\n",
              "        vertical-align: top;\n",
              "    }\n",
              "\n",
              "    .dataframe thead th {\n",
              "        text-align: right;\n",
              "    }\n",
              "</style>\n",
              "<table border=\"1\" class=\"dataframe\">\n",
              "  <thead>\n",
              "    <tr style=\"text-align: right;\">\n",
              "      <th></th>\n",
              "      <th>Profit</th>\n",
              "      <th>Sales</th>\n",
              "      <th>Quantity</th>\n",
              "      <th>Discount</th>\n",
              "    </tr>\n",
              "    <tr>\n",
              "      <th>Segment</th>\n",
              "      <th></th>\n",
              "      <th></th>\n",
              "      <th></th>\n",
              "      <th></th>\n",
              "    </tr>\n",
              "  </thead>\n",
              "  <tbody>\n",
              "    <tr>\n",
              "      <th>Consumer</th>\n",
              "      <td>605.5615</td>\n",
              "      <td>3272.352</td>\n",
              "      <td>374</td>\n",
              "      <td>12.8</td>\n",
              "    </tr>\n",
              "    <tr>\n",
              "      <th>Corporate</th>\n",
              "      <td>343.9693</td>\n",
              "      <td>1478.742</td>\n",
              "      <td>177</td>\n",
              "      <td>4.6</td>\n",
              "    </tr>\n",
              "    <tr>\n",
              "      <th>Home Office</th>\n",
              "      <td>245.6283</td>\n",
              "      <td>1014.246</td>\n",
              "      <td>127</td>\n",
              "      <td>4.2</td>\n",
              "    </tr>\n",
              "  </tbody>\n",
              "</table>\n",
              "</div>"
            ],
            "text/plain": [
              "               Profit     Sales  Quantity  Discount\n",
              "Segment                                            \n",
              "Consumer     605.5615  3272.352       374      12.8\n",
              "Corporate    343.9693  1478.742       177       4.6\n",
              "Home Office  245.6283  1014.246       127       4.2"
            ]
          },
          "metadata": {}
        }
      ]
    },
    {
      "cell_type": "code",
      "metadata": {
        "colab": {
          "base_uri": "https://localhost:8080/",
          "height": 173
        },
        "id": "1qMtaFJFSaIA",
        "outputId": "55925e87-2123-4099-cf48-762dc68c4c29"
      },
      "source": [
        "ArtStateReg = JustArt[[\"Segment\",\"Product Name\",\"Region\",\"Profit\",\"Sales\",\"Quantity\",\"Discount\"]]\n",
        "Reg = ArtStateReg.loc[ArtStateReg[\"Region\"]==\"East\"]\n",
        "\n",
        "\n",
        "Supplies = SalesData.loc[SalesData[\"Sub-Category\"]==\"Art\"]\n",
        "SupProfit = Supplies[[\"Product Name\",\"Profit\",\"Quantity\",\"Discount\"]].groupby(\"Product Name\").sum().sort_values(by=\"Profit\")\n",
        "\n",
        "CentralArt = Reg.groupby(by=\"Segment\").sum().sort_values(by = \"Profit\", ascending = False)\n",
        "display(CentralArt)"
      ],
      "execution_count": null,
      "outputs": [
        {
          "output_type": "display_data",
          "data": {
            "text/html": [
              "<div>\n",
              "<style scoped>\n",
              "    .dataframe tbody tr th:only-of-type {\n",
              "        vertical-align: middle;\n",
              "    }\n",
              "\n",
              "    .dataframe tbody tr th {\n",
              "        vertical-align: top;\n",
              "    }\n",
              "\n",
              "    .dataframe thead th {\n",
              "        text-align: right;\n",
              "    }\n",
              "</style>\n",
              "<table border=\"1\" class=\"dataframe\">\n",
              "  <thead>\n",
              "    <tr style=\"text-align: right;\">\n",
              "      <th></th>\n",
              "      <th>Profit</th>\n",
              "      <th>Sales</th>\n",
              "      <th>Quantity</th>\n",
              "      <th>Discount</th>\n",
              "    </tr>\n",
              "    <tr>\n",
              "      <th>Segment</th>\n",
              "      <th></th>\n",
              "      <th></th>\n",
              "      <th></th>\n",
              "      <th></th>\n",
              "    </tr>\n",
              "  </thead>\n",
              "  <tbody>\n",
              "    <tr>\n",
              "      <th>Consumer</th>\n",
              "      <td>989.0642</td>\n",
              "      <td>3847.198</td>\n",
              "      <td>420</td>\n",
              "      <td>8.2</td>\n",
              "    </tr>\n",
              "    <tr>\n",
              "      <th>Corporate</th>\n",
              "      <td>566.1716</td>\n",
              "      <td>2278.402</td>\n",
              "      <td>287</td>\n",
              "      <td>5.2</td>\n",
              "    </tr>\n",
              "    <tr>\n",
              "      <th>Home Office</th>\n",
              "      <td>344.7085</td>\n",
              "      <td>1360.164</td>\n",
              "      <td>142</td>\n",
              "      <td>2.4</td>\n",
              "    </tr>\n",
              "  </tbody>\n",
              "</table>\n",
              "</div>"
            ],
            "text/plain": [
              "               Profit     Sales  Quantity  Discount\n",
              "Segment                                            \n",
              "Consumer     989.0642  3847.198       420       8.2\n",
              "Corporate    566.1716  2278.402       287       5.2\n",
              "Home Office  344.7085  1360.164       142       2.4"
            ]
          },
          "metadata": {}
        }
      ]
    },
    {
      "cell_type": "code",
      "metadata": {
        "colab": {
          "base_uri": "https://localhost:8080/",
          "height": 173
        },
        "id": "Ibr5H0MDSaWF",
        "outputId": "867ef4a9-6dc1-4409-c58e-b519f9ec493a"
      },
      "source": [
        "ArtStateReg = JustArt[[\"Segment\",\"Product Name\",\"Region\",\"Profit\",\"Sales\",\"Quantity\",\"Discount\"]]\n",
        "Reg = ArtStateReg.loc[ArtStateReg[\"Region\"]==\"South\"]\n",
        "\n",
        "\n",
        "Supplies = SalesData.loc[SalesData[\"Sub-Category\"]==\"Art\"]\n",
        "SupProfit = Supplies[[\"Product Name\",\"Profit\",\"Quantity\",\"Discount\"]].groupby(\"Product Name\").sum().sort_values(by=\"Profit\")\n",
        "\n",
        "CentralArt = Reg.groupby(by=\"Segment\").sum().sort_values(by = \"Profit\", ascending = False)\n",
        "display(CentralArt)"
      ],
      "execution_count": null,
      "outputs": [
        {
          "output_type": "display_data",
          "data": {
            "text/html": [
              "<div>\n",
              "<style scoped>\n",
              "    .dataframe tbody tr th:only-of-type {\n",
              "        vertical-align: middle;\n",
              "    }\n",
              "\n",
              "    .dataframe tbody tr th {\n",
              "        vertical-align: top;\n",
              "    }\n",
              "\n",
              "    .dataframe thead th {\n",
              "        text-align: right;\n",
              "    }\n",
              "</style>\n",
              "<table border=\"1\" class=\"dataframe\">\n",
              "  <thead>\n",
              "    <tr style=\"text-align: right;\">\n",
              "      <th></th>\n",
              "      <th>Profit</th>\n",
              "      <th>Sales</th>\n",
              "      <th>Quantity</th>\n",
              "      <th>Discount</th>\n",
              "    </tr>\n",
              "    <tr>\n",
              "      <th>Segment</th>\n",
              "      <th></th>\n",
              "      <th></th>\n",
              "      <th></th>\n",
              "      <th></th>\n",
              "    </tr>\n",
              "  </thead>\n",
              "  <tbody>\n",
              "    <tr>\n",
              "      <th>Consumer</th>\n",
              "      <td>648.4543</td>\n",
              "      <td>2654.756</td>\n",
              "      <td>312</td>\n",
              "      <td>8.0</td>\n",
              "    </tr>\n",
              "    <tr>\n",
              "      <th>Corporate</th>\n",
              "      <td>264.2543</td>\n",
              "      <td>1332.404</td>\n",
              "      <td>157</td>\n",
              "      <td>4.2</td>\n",
              "    </tr>\n",
              "    <tr>\n",
              "      <th>Home Office</th>\n",
              "      <td>145.8780</td>\n",
              "      <td>668.462</td>\n",
              "      <td>78</td>\n",
              "      <td>2.2</td>\n",
              "    </tr>\n",
              "  </tbody>\n",
              "</table>\n",
              "</div>"
            ],
            "text/plain": [
              "               Profit     Sales  Quantity  Discount\n",
              "Segment                                            \n",
              "Consumer     648.4543  2654.756       312       8.0\n",
              "Corporate    264.2543  1332.404       157       4.2\n",
              "Home Office  145.8780   668.462        78       2.2"
            ]
          },
          "metadata": {}
        }
      ]
    },
    {
      "cell_type": "code",
      "metadata": {
        "colab": {
          "base_uri": "https://localhost:8080/",
          "height": 173
        },
        "id": "P1FLr-8kSala",
        "outputId": "4ae60b6e-8c0c-499b-e1c2-fc1a36d1e367"
      },
      "source": [
        "ArtStateReg = JustArt[[\"Segment\",\"Product Name\",\"Region\",\"Profit\",\"Sales\",\"Quantity\",\"Discount\"]]\n",
        "Reg = ArtStateReg.loc[ArtStateReg[\"Region\"]==\"West\"]\n",
        "\n",
        "\n",
        "Supplies = SalesData.loc[SalesData[\"Sub-Category\"]==\"Art\"]\n",
        "SupProfit = Supplies[[\"Product Name\",\"Profit\",\"Quantity\",\"Discount\"]].groupby(\"Product Name\").sum().sort_values(by=\"Profit\")\n",
        "\n",
        "CentralArt = Reg.groupby(by=\"Segment\").sum().sort_values(by = \"Profit\", ascending = False)\n",
        "display(CentralArt)"
      ],
      "execution_count": null,
      "outputs": [
        {
          "output_type": "display_data",
          "data": {
            "text/html": [
              "<div>\n",
              "<style scoped>\n",
              "    .dataframe tbody tr th:only-of-type {\n",
              "        vertical-align: middle;\n",
              "    }\n",
              "\n",
              "    .dataframe tbody tr th {\n",
              "        vertical-align: top;\n",
              "    }\n",
              "\n",
              "    .dataframe thead th {\n",
              "        text-align: right;\n",
              "    }\n",
              "</style>\n",
              "<table border=\"1\" class=\"dataframe\">\n",
              "  <thead>\n",
              "    <tr style=\"text-align: right;\">\n",
              "      <th></th>\n",
              "      <th>Profit</th>\n",
              "      <th>Sales</th>\n",
              "      <th>Quantity</th>\n",
              "      <th>Discount</th>\n",
              "    </tr>\n",
              "    <tr>\n",
              "      <th>Segment</th>\n",
              "      <th></th>\n",
              "      <th></th>\n",
              "      <th></th>\n",
              "      <th></th>\n",
              "    </tr>\n",
              "  </thead>\n",
              "  <tbody>\n",
              "    <tr>\n",
              "      <th>Consumer</th>\n",
              "      <td>1211.2211</td>\n",
              "      <td>4477.624</td>\n",
              "      <td>519</td>\n",
              "      <td>4.8</td>\n",
              "    </tr>\n",
              "    <tr>\n",
              "      <th>Corporate</th>\n",
              "      <td>830.2525</td>\n",
              "      <td>3500.900</td>\n",
              "      <td>229</td>\n",
              "      <td>1.6</td>\n",
              "    </tr>\n",
              "    <tr>\n",
              "      <th>Home Office</th>\n",
              "      <td>332.6234</td>\n",
              "      <td>1233.542</td>\n",
              "      <td>178</td>\n",
              "      <td>1.4</td>\n",
              "    </tr>\n",
              "  </tbody>\n",
              "</table>\n",
              "</div>"
            ],
            "text/plain": [
              "                Profit     Sales  Quantity  Discount\n",
              "Segment                                             \n",
              "Consumer     1211.2211  4477.624       519       4.8\n",
              "Corporate     830.2525  3500.900       229       1.6\n",
              "Home Office   332.6234  1233.542       178       1.4"
            ]
          },
          "metadata": {}
        }
      ]
    }
  ]
}